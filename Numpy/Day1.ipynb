{
 "cells": [
  {
   "cell_type": "markdown",
   "id": "856c00e0",
   "metadata": {},
   "source": [
    "Basic Array Creation"
   ]
  },
  {
   "cell_type": "code",
   "execution_count": null,
   "id": "391c9779",
   "metadata": {},
   "outputs": [],
   "source": [
    "l=[1,2,3,4,5]\n",
    "print(\"This is list : \",l)\n",
    "import numpy as np\n",
    "a=np.array(l)\n",
    "print(\"This is array : \",a)"
   ]
  },
  {
   "cell_type": "markdown",
   "id": "5a0e875b",
   "metadata": {},
   "source": [
    "list does not support 2d\n",
    "array does..."
   ]
  },
  {
   "cell_type": "code",
   "execution_count": 20,
   "id": "c3b460ef",
   "metadata": {},
   "outputs": [
    {
     "name": "stdout",
     "output_type": "stream",
     "text": [
      "[[1, 2, 3], [4, 5, 6], [7, 8, 9]]\n",
      "[[1 2 3]\n",
      " [4 5 6]\n",
      " [7 8 9]]\n"
     ]
    }
   ],
   "source": [
    "l=[[1,2,3],[4,5,6],[7,8,9]]\n",
    "print(l)\n",
    "a=np.array(l)\n",
    "print(a)"
   ]
  },
  {
   "cell_type": "code",
   "execution_count": 22,
   "id": "87c9007e",
   "metadata": {},
   "outputs": [
    {
     "name": "stdout",
     "output_type": "stream",
     "text": [
      "[['*', '*'], ['*', '*']]\n"
     ]
    }
   ],
   "source": [
    "l=[[\"*\",\"*\"],[\"*\",\"*\"]]\n",
    "print(l)"
   ]
  },
  {
   "cell_type": "code",
   "execution_count": 24,
   "id": "ff69b0fc",
   "metadata": {},
   "outputs": [
    {
     "name": "stdout",
     "output_type": "stream",
     "text": [
      "[['*' '*']\n",
      " ['*' '*']]\n"
     ]
    }
   ],
   "source": [
    "a=np.array(l)\n",
    "print(a)"
   ]
  }
 ],
 "metadata": {
  "kernelspec": {
   "display_name": "Python 3",
   "language": "python",
   "name": "python3"
  },
  "language_info": {
   "codemirror_mode": {
    "name": "ipython",
    "version": 3
   },
   "file_extension": ".py",
   "mimetype": "text/x-python",
   "name": "python",
   "nbconvert_exporter": "python",
   "pygments_lexer": "ipython3",
   "version": "3.12.2"
  }
 },
 "nbformat": 4,
 "nbformat_minor": 5
}
