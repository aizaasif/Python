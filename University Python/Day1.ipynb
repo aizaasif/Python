{
  "nbformat": 4,
  "nbformat_minor": 0,
  "metadata": {
    "colab": {
      "provenance": []
    },
    "kernelspec": {
      "name": "python3",
      "display_name": "Python 3"
    },
    "language_info": {
      "name": "python"
    }
  },
  "cells": [
    {
      "cell_type": "markdown",
      "source": [
        "1. (Convert Celsius to Fahrenheit) Write a program that reads a Celsius degree from the console and converts it to\n",
        "Fahrenheit and displays the result. The formula for the conversion is as follows: fahrenheit = (9 / 5) * celsius + 32\n"
      ],
      "metadata": {
        "id": "qnZ5umkxOYbo"
      }
    },
    {
      "cell_type": "code",
      "source": [
        "cel=float(input(\"Enter a value in celcius : \"))\n",
        "fahrenheit = (9 / 5) * cel + 32\n",
        "print(f\"{cel} celcius =\",fahrenheit)"
      ],
      "metadata": {
        "colab": {
          "base_uri": "https://localhost:8080/"
        },
        "id": "ZHuOV5M-OZ_I",
        "outputId": "49876a92-a1e9-4734-e28f-8ca070eef500"
      },
      "execution_count": null,
      "outputs": [
        {
          "output_type": "stream",
          "name": "stdout",
          "text": [
            "Enter a value in celcius : 43\n",
            "43.0 celcius = 109.4\n"
          ]
        }
      ]
    },
    {
      "cell_type": "markdown",
      "source": [
        "2. (Compute the volume of a cylinder) Write a program that reads in the radius and length of a cylinder and computes\n",
        "the area and volume using the following formulas: area = radius * radius * π, volume = area * length\n"
      ],
      "metadata": {
        "id": "UHZBDdwUO4ZH"
      }
    },
    {
      "cell_type": "code",
      "source": [
        "r=float(input(\"Enter the radius of the cylinder : \"))\n",
        "l=float(input(\"Enter the length of the cylinder : \"))\n",
        "a=r*r*3.14\n",
        "v=a*l\n",
        "print(f\"Area of the cylinder = {a}\")\n",
        "print(f\"Volume of the cylinder = {v}\")"
      ],
      "metadata": {
        "colab": {
          "base_uri": "https://localhost:8080/"
        },
        "id": "eS6Pz30RPCMJ",
        "outputId": "f65eb3fd-913c-4706-91d1-bba32125ed0e"
      },
      "execution_count": null,
      "outputs": [
        {
          "output_type": "stream",
          "name": "stdout",
          "text": [
            "Enter the radius of the cylinder : 5.5\n",
            "Enter the length of the cylinder : 12\n",
            "Area of the cylinder = 94.985\n",
            "Volume of the cylinder = 1139.82\n"
          ]
        }
      ]
    },
    {
      "cell_type": "markdown",
      "source": [
        "3. (Convert feet into meters) Write a program that reads a number in feet, converts it to meters, and displays the\n",
        "result. One foot is 0.305 meters."
      ],
      "metadata": {
        "id": "SImQcQLePWhg"
      }
    },
    {
      "cell_type": "code",
      "source": [
        "f=float(input(\"Enter a value in feet : \"))\n",
        "m=f*0.305\n",
        "print(f\"{f} feet =\",m)"
      ],
      "metadata": {
        "colab": {
          "base_uri": "https://localhost:8080/"
        },
        "id": "SQwNyffLQGmR",
        "outputId": "4a3dc042-eff0-4d66-ad6f-857a02abb171"
      },
      "execution_count": null,
      "outputs": [
        {
          "output_type": "stream",
          "name": "stdout",
          "text": [
            "Enter a value in feet : 16.5\n",
            "16.5 feet = 5.0325\n"
          ]
        }
      ]
    },
    {
      "cell_type": "markdown",
      "source": [
        "4. (Convert pounds into kilograms) Write a program that converts pounds into kilograms. The program prompts the\n",
        "user to enter a value in pounds, converts it to kilograms, and displays the result. One pound is 0.454 kilograms."
      ],
      "metadata": {
        "id": "I6n1isKtQS8m"
      }
    },
    {
      "cell_type": "code",
      "source": [
        "p=float(input(\"Enter a value in pounds : \"))\n",
        "k=p*0.454\n",
        "print(f\"{p} pounds = {k} kilograms\")"
      ],
      "metadata": {
        "colab": {
          "base_uri": "https://localhost:8080/"
        },
        "id": "-MGvy3kfQXt5",
        "outputId": "4d2c32e2-5e0c-459d-8219-1685f0ee9eb4"
      },
      "execution_count": null,
      "outputs": [
        {
          "output_type": "stream",
          "name": "stdout",
          "text": [
            "Enter a value in pounds : 55.5\n",
            "55.5 pounds = 25.197 kilograms\n"
          ]
        }
      ]
    },
    {
      "cell_type": "markdown",
      "source": [
        "5. (Financial application: calculate tips) Write a program that reads the subtotal and the gratuity rate and computes\n",
        "the gratuity and total. For example, if the user enters 10 for the subtotal and 15% for the gratuity rate, the program\n",
        "displays 1.5 as the gratuity and 11.5 as the total."
      ],
      "metadata": {
        "id": "aHjHe9wXQwUz"
      }
    },
    {
      "cell_type": "code",
      "source": [
        "s=int(input(\"Enter subtotal : \"))\n",
        "g=int(input(\"Enter gratuity rate in percent : \"))\n",
        "G=s*(g/100)\n",
        "t=s+G\n",
        "print(f\"Gratuity = {G}\")\n",
        "print(f\"Total = {t}\")"
      ],
      "metadata": {
        "colab": {
          "base_uri": "https://localhost:8080/"
        },
        "id": "0BDY2LRISgHR",
        "outputId": "a9ceef0b-dfa3-41dd-9726-a7c43838da63"
      },
      "execution_count": null,
      "outputs": [
        {
          "output_type": "stream",
          "name": "stdout",
          "text": [
            "Enter subtotal : 10\n",
            "Enter gratuity rate in percent : 15\n",
            "Gratuity = 1.5\n",
            "Total = 11.5\n"
          ]
        }
      ]
    },
    {
      "cell_type": "markdown",
      "source": [
        "6.Solve the Following"
      ],
      "metadata": {
        "id": "kVWPvM44294X"
      }
    },
    {
      "cell_type": "code",
      "source": [
        "employee_name=input(\"Enter employee's name: \")\n",
        "hours_worked=float(input(\"Enter number of hours worked in a week: \"))\n",
        "pay_rate=float(input(\"Enter hourly pay rate: \"))\n",
        "federal_tax_rate=float(input(\"Enter federal tax withholding rate (e.g., 0.20): \"))\n",
        "state_tax_rate=float(input(\"Enter state tax withholding rate (e.g., 0.09): \"))\n",
        "gross_pay = hours_worked * pay_rate\n",
        "federal_withholding = gross_pay * federal_tax_rate\n",
        "state_withholding = gross_pay * state_tax_rate\n",
        "total_deduction = federal_withholding + state_withholding\n",
        "net_pay = gross_pay - total_deduction\n",
        "print(\"\\nEmployee Name:\", employee_name)\n",
        "print(\"Hours Worked:\", hours_worked)\n",
        "print(\"Pay Rate: $\", format(pay_rate, \".2f\"), sep=\"\")\n",
        "print(\"Gross Pay: $\", format(gross_pay, \".2f\"), sep=\"\")\n",
        "print(\"Deductions:\")\n",
        "print(\"  Federal Withholding (\", format(federal_tax_rate * 100, \".1f\"), \"%): $\", format(federal_withholding, \".2f\"), sep=\"\")\n",
        "print(\"  State Withholding (\", format(state_tax_rate * 100, \".1f\"), \"%): $\", format(state_withholding, \".2f\"), sep=\"\")\n",
        "print(\"  Total Deduction: $\", format(total_deduction, \".2f\"), sep=\"\")\n",
        "print(\"Net Pay: $\", format(net_pay, \".2f\"), sep=\"\")\n"
      ],
      "metadata": {
        "colab": {
          "base_uri": "https://localhost:8080/"
        },
        "id": "geSAvT_F3El6",
        "outputId": "a989434a-11c2-4244-b524-f89b61502c16"
      },
      "execution_count": 2,
      "outputs": [
        {
          "output_type": "stream",
          "name": "stdout",
          "text": [
            "Enter employee's name: smith\n",
            "Enter number of hours worked in a week: 10\n",
            "Enter hourly pay rate: 9.75\n",
            "Enter federal tax withholding rate (e.g., 0.20): 0.20\n",
            "Enter state tax withholding rate (e.g., 0.09): 0.09\n",
            "\n",
            "Employee Name: smith\n",
            "Hours Worked: 10.0\n",
            "Pay Rate: $9.75\n",
            "Gross Pay: $97.50\n",
            "Deductions:\n",
            "  Federal Withholding (20.0%): $19.50\n",
            "  State Withholding (9.0%): $8.78\n",
            "  Total Deduction: $28.27\n",
            "Net Pay: $69.22\n"
          ]
        }
      ]
    },
    {
      "cell_type": "markdown",
      "source": [
        "7.Solve the Following"
      ],
      "metadata": {
        "id": "Jm2B9aIs3yDp"
      }
    },
    {
      "cell_type": "code",
      "source": [
        "investment_amount = float(input(\"Enter investment amount: \"))\n",
        "annual_interest_rate = float(input(\"Enter annual interest rate (e.g., 4.25): \"))\n",
        "years = int(input(\"Enter number of years: \"))\n",
        "monthly_interest_rate = annual_interest_rate / 1200\n",
        "future_investment_value = investment_amount * (1 + monthly_interest_rate) ** (years * 12)\n",
        "print(\"Accumulated value is\", format(future_investment_value, \".2f\"))\n"
      ],
      "metadata": {
        "colab": {
          "base_uri": "https://localhost:8080/"
        },
        "id": "WrCxsUi130kp",
        "outputId": "3201d95b-f34f-4293-ad02-8fe7feaf2d1e"
      },
      "execution_count": 3,
      "outputs": [
        {
          "output_type": "stream",
          "name": "stdout",
          "text": [
            "Enter investment amount: 1000\n",
            "Enter annual interest rate (e.g., 4.25): 4.25\n",
            "Enter number of years: 1\n",
            "Accumulated value is 1043.34\n"
          ]
        }
      ]
    },
    {
      "cell_type": "markdown",
      "source": [
        "8. Ask the user to enter a value in miles and convert it in kilo meters 1 kilometer=0.6213 Mile\n"
      ],
      "metadata": {
        "id": "t3ZPeoESSmv9"
      }
    },
    {
      "cell_type": "code",
      "source": [
        "m=float(input(\"Enter a value in miles : \"))\n",
        "k=m/0.6213\n",
        "print(f\"{m} miles =\",k)\n"
      ],
      "metadata": {
        "colab": {
          "base_uri": "https://localhost:8080/"
        },
        "id": "rHKYmdApTtQa",
        "outputId": "36acd10f-6f90-49eb-82f6-d95b0607360a"
      },
      "execution_count": null,
      "outputs": [
        {
          "output_type": "stream",
          "name": "stdout",
          "text": [
            "Enter a value in miles : 10\n",
            "10.0 miles = 16.095284081764046\n"
          ]
        }
      ]
    },
    {
      "cell_type": "markdown",
      "source": [
        "9. Take two integers from the user and check whether first is multiple of second\n"
      ],
      "metadata": {
        "id": "8X_sjmZIUjXv"
      }
    },
    {
      "cell_type": "code",
      "source": [
        "a=int(input(\"Enter first number : \"))\n",
        "b=int(input(\"Enter second number : \"))\n",
        "if(a%b==0):\n",
        "  print(f\"{a} is a multiple of {b}\")\n",
        "else:\n",
        "  print(f\"{a} is not a multiple of {b}\")"
      ],
      "metadata": {
        "id": "Epf4Vzi5UkW8"
      },
      "execution_count": null,
      "outputs": []
    },
    {
      "cell_type": "markdown",
      "source": [
        "10. Input five integers from user and display minimum and maximum\n"
      ],
      "metadata": {
        "id": "gh20eJ2RUtkn"
      }
    },
    {
      "cell_type": "code",
      "source": [
        "a=int(input(\"Enter first number : \"))\n",
        "b=int(input(\"Enter second number : \"))\n",
        "c=int(input(\"Enter third number : \"))\n",
        "d=int(input(\"Enter fourth number : \"))\n",
        "e=int(input(\"Enter fifth number : \"))\n",
        "print(f\"Maximum = {max(a,b,c,d,e)}\")\n",
        "print(f\"Minimum = {min(a,b,c,d,e)}\")\n"
      ],
      "metadata": {
        "colab": {
          "base_uri": "https://localhost:8080/"
        },
        "id": "PSs6ffDlUvwW",
        "outputId": "e0fd3c80-a9f4-45bd-f4c4-8c41ce16e2a8"
      },
      "execution_count": null,
      "outputs": [
        {
          "output_type": "stream",
          "name": "stdout",
          "text": [
            "Enter first number : 1\n",
            "Enter second number : 2\n",
            "Enter third number : 3\n",
            "Enter fourth number : 4\n",
            "Enter fifth number : 5\n",
            "Maximum = 5\n",
            "Minimum = 1\n"
          ]
        }
      ]
    },
    {
      "cell_type": "markdown",
      "source": [
        "11. (Body Mass Index Calculator): BMI= weightInKilograms/ (heightInMeters2\n",
        "). User will enter his weight in\n",
        "Kilograms and height in meters (1 M=3.23 Feet) and the BMI of the user and display following:\n",
        "• Display “You are Underweight” if BMI is less than 18.5\n",
        "• Display “You are Normal” if BMI is between 8.5 and 24.9\n",
        "• Display “You are Overweight” if BMI is between 25 and 29.9\n",
        "• Display “You are Obese” if BMI is greater than 30\n",
        "Use And (&&) operator for writing multiple conditions in the if statement"
      ],
      "metadata": {
        "id": "XsEk28GwWtuo"
      }
    },
    {
      "cell_type": "code",
      "source": [
        "w=int(input(\"Enter your weight in kilograms : \"))\n",
        "h=float(input(\"Enter your height in meters : \"))\n",
        "BMI=w/(h*h)\n",
        "if BMI<18.5:\n",
        "  print(\"You are Underweight\")\n",
        "elif BMI>18.5 and BMI<24.9:\n",
        "  print(\"You are Normal\")\n",
        "elif BMI>25 and BMI<29.9:\n",
        "  print(\"You are Overweight\")"
      ],
      "metadata": {
        "colab": {
          "base_uri": "https://localhost:8080/"
        },
        "id": "QB31MJcmW1Lt",
        "outputId": "3e1fa4e9-84df-420d-9f2d-b7842ed3d5cc"
      },
      "execution_count": null,
      "outputs": [
        {
          "output_type": "stream",
          "name": "stdout",
          "text": [
            "Enter your weight in kilograms : 49\n",
            "Enter your height in meters : 5.4\n",
            "You are Underweight\n"
          ]
        }
      ]
    },
    {
      "cell_type": "markdown",
      "source": [
        "12. Write two functions add and multiply with five arguments and default values. These functions display result\n"
      ],
      "metadata": {
        "id": "hsjoPvk2XTa2"
      }
    },
    {
      "cell_type": "code",
      "source": [
        "def add(a=0,b=0,c=0,d=0,e=0):\n",
        "  print(a+b+c+d+e)\n",
        "def multiply(a=0,b=0,c=0,d=0,e=0):\n",
        "  print(a*b*c*d*e)\n",
        "add(1,2,3,4,5)\n",
        "multiply(1,2,3,4,5)"
      ],
      "metadata": {
        "colab": {
          "base_uri": "https://localhost:8080/"
        },
        "id": "VEaEq885XWPn",
        "outputId": "728de5b4-7320-4e5f-e781-da2ba1e5b303"
      },
      "execution_count": null,
      "outputs": [
        {
          "output_type": "stream",
          "name": "stdout",
          "text": [
            "15\n",
            "120\n"
          ]
        }
      ]
    },
    {
      "cell_type": "markdown",
      "source": [
        "13. Write a function, which takes 5 arguments and print their average. Call this function\n"
      ],
      "metadata": {
        "id": "5P8dPJmsXtoL"
      }
    },
    {
      "cell_type": "code",
      "source": [
        "def avg(a,b,c,d,e):\n",
        "  print((a+b+c+d+e)/5)\n",
        "avg(1,2,3,4,5)"
      ],
      "metadata": {
        "colab": {
          "base_uri": "https://localhost:8080/"
        },
        "id": "qMJjse_NXw1-",
        "outputId": "6fd3b287-2e22-4d27-f58d-fbbc37a0662a"
      },
      "execution_count": null,
      "outputs": [
        {
          "output_type": "stream",
          "name": "stdout",
          "text": [
            "3.0\n"
          ]
        }
      ]
    },
    {
      "cell_type": "markdown",
      "source": [
        "14. Write a function, which takes 5 arguments and print the larges and smallest\n"
      ],
      "metadata": {
        "id": "QfGGI_aJX2sa"
      }
    },
    {
      "cell_type": "code",
      "source": [
        "def largest(a,b,c,d,e):\n",
        "  print(max(a,b,c,d,e))\n",
        "def smallest(a,b,c,d,e):\n",
        "  print(min(a,b,c,d,e))\n",
        "largest(1,2,3,4,5)\n",
        "smallest(1,2,3,4,5)"
      ],
      "metadata": {
        "colab": {
          "base_uri": "https://localhost:8080/"
        },
        "id": "QB4G_lmNX4pk",
        "outputId": "c47ac0d3-0054-408b-97f7-34f43d057f87"
      },
      "execution_count": null,
      "outputs": [
        {
          "output_type": "stream",
          "name": "stdout",
          "text": [
            "5\n",
            "1\n"
          ]
        }
      ]
    },
    {
      "cell_type": "markdown",
      "source": [
        "15. Write a function which take the radius of circle as first argument and a char (a or c) as second argument. If second\n",
        "argument is a then return the area of circle. If the second argument is c then return the circumference of circle\n"
      ],
      "metadata": {
        "id": "C2-mUAV3YLMs"
      }
    },
    {
      "cell_type": "code",
      "source": [
        "import math\n",
        "\n",
        "def circle_calc(radius, choice):\n",
        "    if choice.lower() == 'a':\n",
        "\n",
        "        return math.pi * radius * radius\n",
        "    elif choice.lower() == 'c':\n",
        "\n",
        "        return 2 * math.pi * radius\n",
        "    else:\n",
        "        return \"Invalid choice!\"\n",
        "\n",
        "\n",
        "r = float(input(\"Enter radius of circle: \"))\n",
        "ch = input(\"Enter 'a' for area or 'c' for circumference: \")\n",
        "\n",
        "result = circle_calc(r, ch)\n",
        "print(\"Result =\", result)\n"
      ],
      "metadata": {
        "colab": {
          "base_uri": "https://localhost:8080/"
        },
        "id": "nEnfcsLSYbTl",
        "outputId": "c25db140-1aba-4dfd-9fb3-566710dc03e2"
      },
      "execution_count": null,
      "outputs": [
        {
          "output_type": "stream",
          "name": "stdout",
          "text": [
            "Enter radius of circle: 2\n",
            "Enter 'a' for area or 'c' for circumference: c\n",
            "Result = 12.566370614359172\n"
          ]
        }
      ]
    },
    {
      "cell_type": "markdown",
      "source": [
        "16. Modify the two-number calculator problem and solve it using functions for add, sub etc. Return the results from\n",
        "these functions and display them in main."
      ],
      "metadata": {
        "id": "tyZwB_mOYjOQ"
      }
    },
    {
      "cell_type": "code",
      "source": [
        "def add(a,b):\n",
        "  print(a+b)\n",
        "def sub(a,b):\n",
        "  print(a-b)\n",
        "def mul(a,b):\n",
        "  print(a*b)\n",
        "def div(a,b):\n",
        "  print(a/b)\n",
        "add(10,20)\n",
        "sub(10,20)\n",
        "mul(10,20)\n",
        "div(10,20)"
      ],
      "metadata": {
        "colab": {
          "base_uri": "https://localhost:8080/"
        },
        "id": "aCwFKJJ-Yl9z",
        "outputId": "8ba5994e-74fa-4072-cd1f-2bf445f90934"
      },
      "execution_count": null,
      "outputs": [
        {
          "output_type": "stream",
          "name": "stdout",
          "text": [
            "30\n",
            "-10\n",
            "200\n",
            "0.5\n"
          ]
        }
      ]
    }
  ]
}