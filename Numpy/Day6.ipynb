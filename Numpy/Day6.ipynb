{
 "cells": [
  {
   "cell_type": "markdown",
   "id": "11c54b19",
   "metadata": {},
   "source": [
    "Checking the Datatype of array"
   ]
  },
  {
   "cell_type": "code",
   "execution_count": 4,
   "id": "b23bddf1",
   "metadata": {},
   "outputs": [
    {
     "name": "stdout",
     "output_type": "stream",
     "text": [
      "[[ 1  2  3  4  5]\n",
      " [ 6  7  8  9 10]]\n",
      "The dimensions of array is :  2\n",
      "The data type of array [[ 1  2  3  4  5]\n",
      " [ 6  7  8  9 10]] is  int64\n"
     ]
    }
   ],
   "source": [
    "import numpy as np\n",
    "arr=np.array(([1,2,3,4,5],[6,7,8,9,10]))\n",
    "print(arr)\n",
    "print(\"The dimensions of array is : \",arr.ndim)\n",
    "print(f\"The data type of array {arr} is \",arr.dtype)"
   ]
  },
  {
   "cell_type": "code",
   "execution_count": 5,
   "id": "f7f0ab14",
   "metadata": {},
   "outputs": [
    {
     "name": "stdout",
     "output_type": "stream",
     "text": [
      "The data type of array [[ 1.1  2.2  3.   4.   5. ]\n",
      " [ 6.   7.   8.9  9.9 10. ]] is  float64\n"
     ]
    }
   ],
   "source": [
    "arr=np.array(([1.1,2.2,3,4,5],[6,7,8.9,9.9,10]))\n",
    "print(f\"The data type of array {arr} is \",arr.dtype)"
   ]
  },
  {
   "cell_type": "code",
   "execution_count": 7,
   "id": "90946f4e",
   "metadata": {},
   "outputs": [
    {
     "name": "stdout",
     "output_type": "stream",
     "text": [
      "The data type of array [['1.1' '2.2' '3' '4' '5']\n",
      " ['6' '7' '8.9' '9.9' '10']] is  <U32\n"
     ]
    }
   ],
   "source": [
    "arr=np.array(([1.1,\"2.2\",3,4,\"5\"],[6,7,8.9,9.9,\"10\"]))\n",
    "print(f\"The data type of array {arr} is \",arr.dtype)"
   ]
  },
  {
   "cell_type": "markdown",
   "id": "09c5e16e",
   "metadata": {},
   "source": [
    "Creating arrays with defined datatype"
   ]
  },
  {
   "cell_type": "code",
   "execution_count": 22,
   "id": "308d71fc",
   "metadata": {},
   "outputs": [
    {
     "name": "stdout",
     "output_type": "stream",
     "text": [
      "[1 2 3 4 5]\n",
      "object\n",
      "int64\n",
      "<U1\n",
      "complex128\n"
     ]
    }
   ],
   "source": [
    "a=np.array([1,2,3,4,5],dtype=object)\n",
    "print(a)\n",
    "print(a.dtype)\n",
    "b=np.array([1,2,3,4,5],dtype=int)\n",
    "print(b.dtype)\n",
    "c=np.array([1,2,3,4,5],dtype=str)\n",
    "print(c.dtype)\n",
    "d=np.array([1,2,3,4,5],dtype=complex)\n",
    "print(d.dtype)"
   ]
  }
 ],
 "metadata": {
  "kernelspec": {
   "display_name": "Python 3",
   "language": "python",
   "name": "python3"
  },
  "language_info": {
   "codemirror_mode": {
    "name": "ipython",
    "version": 3
   },
   "file_extension": ".py",
   "mimetype": "text/x-python",
   "name": "python",
   "nbconvert_exporter": "python",
   "pygments_lexer": "ipython3",
   "version": "3.12.2"
  }
 },
 "nbformat": 4,
 "nbformat_minor": 5
}
