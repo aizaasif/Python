{
 "cells": [
  {
   "cell_type": "markdown",
   "id": "06b2eb05",
   "metadata": {},
   "source": [
    "Array Reshape"
   ]
  },
  {
   "cell_type": "code",
   "execution_count": 1,
   "id": "948bd169",
   "metadata": {},
   "outputs": [
    {
     "name": "stdout",
     "output_type": "stream",
     "text": [
      "[ 1  2  3  4  5  6  7  8  9 10 11 12]\n",
      "[[ 1  2  3]\n",
      " [ 4  5  6]\n",
      " [ 7  8  9]\n",
      " [10 11 12]]\n"
     ]
    }
   ],
   "source": [
    "# converting from 1D TO 2D\n",
    "import numpy as np \n",
    "a1=np.array([1,2,3,4,5,6,7,8,9,10,11,12])\n",
    "n1=a1.reshape(4,3)\n",
    "print(a1)\n",
    "print(n1)"
   ]
  },
  {
   "cell_type": "code",
   "execution_count": 7,
   "id": "57c41b51",
   "metadata": {},
   "outputs": [
    {
     "name": "stdout",
     "output_type": "stream",
     "text": [
      "[[ 1  2  3  4  5  6]\n",
      " [ 7  8  9 10 11 12]]\n"
     ]
    }
   ],
   "source": [
    "a1=np.array([1,2,3,4,5,6,7,8,9,10,11,12])\n",
    "n=a1.reshape(2,6)\n",
    "print(n)"
   ]
  },
  {
   "cell_type": "code",
   "execution_count": 13,
   "id": "22808498",
   "metadata": {},
   "outputs": [
    {
     "name": "stdout",
     "output_type": "stream",
     "text": [
      "[[[ 1  2]\n",
      "  [ 3  4]\n",
      "  [ 5  6]]\n",
      "\n",
      " [[ 7  8]\n",
      "  [ 9 10]\n",
      "  [11 12]]]\n"
     ]
    }
   ],
   "source": [
    "# 1D to 3D\n",
    "a3=np.array([1,2,3,4,5,6,7,8,9,10,11,12])\n",
    "n3=a3.reshape(2,3,2)\n",
    "print(n3)\n"
   ]
  },
  {
   "cell_type": "code",
   "execution_count": 12,
   "id": "e228b91b",
   "metadata": {},
   "outputs": [
    {
     "name": "stdout",
     "output_type": "stream",
     "text": [
      "BEFORE RESHAPING: \n",
      "[[ 1  2  3  4  5  6]\n",
      " [ 7  8  9 10 11 12]]\n",
      "AFTER RESHAPING: \n",
      "[[ 1  2  3]\n",
      " [ 4  5  6]\n",
      " [ 7  8  9]\n",
      " [10 11 12]]\n"
     ]
    }
   ],
   "source": [
    "# Elements change\n",
    "import numpy as np\n",
    "a3d=np.array([[1,2,3,4,5,6],[7,8,9,10,11,12]])\n",
    "print(\"BEFORE RESHAPING: \")\n",
    "print(a3d)\n",
    "print(\"AFTER RESHAPING: \")\n",
    "new3d=a3d.reshape(4,3)\n",
    "print(new3d)"
   ]
  },
  {
   "cell_type": "code",
   "execution_count": 13,
   "id": "d5214a18",
   "metadata": {},
   "outputs": [
    {
     "name": "stdout",
     "output_type": "stream",
     "text": [
      "[[1 2]\n",
      " [3 4]]\n",
      "[1 2 3 4]\n"
     ]
    }
   ],
   "source": [
    "a=np.array([1,2,3,4])\n",
    "b=a.reshape(2,2)\n",
    "print(b)\n",
    "print(b.base)"
   ]
  }
 ],
 "metadata": {
  "kernelspec": {
   "display_name": "Python 3",
   "language": "python",
   "name": "python3"
  },
  "language_info": {
   "codemirror_mode": {
    "name": "ipython",
    "version": 3
   },
   "file_extension": ".py",
   "mimetype": "text/x-python",
   "name": "python",
   "nbconvert_exporter": "python",
   "pygments_lexer": "ipython3",
   "version": "3.12.2"
  }
 },
 "nbformat": 4,
 "nbformat_minor": 5
}
