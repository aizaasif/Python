{
 "cells": [
  {
   "cell_type": "markdown",
   "id": "0a5a4a16",
   "metadata": {},
   "source": [
    "buffer and op_dtypes in nditer()"
   ]
  },
  {
   "cell_type": "code",
   "execution_count": 3,
   "id": "aabd3b05",
   "metadata": {},
   "outputs": [
    {
     "name": "stdout",
     "output_type": "stream",
     "text": [
      "1\n",
      "2\n",
      "3\n",
      "4\n",
      "5\n",
      "<U21\n",
      "int64\n"
     ]
    }
   ],
   "source": [
    "import numpy as np\n",
    "arr=np.array([1,2,3,4,5],ndmin=10)\n",
    "for i in np.nditer(arr,flags=['buffered'],op_dtypes=str):\n",
    "    print(i)\n",
    "print(i.dtype)\n",
    "print(arr.dtype)"
   ]
  }
 ],
 "metadata": {
  "kernelspec": {
   "display_name": "Python 3",
   "language": "python",
   "name": "python3"
  },
  "language_info": {
   "codemirror_mode": {
    "name": "ipython",
    "version": 3
   },
   "file_extension": ".py",
   "mimetype": "text/x-python",
   "name": "python",
   "nbconvert_exporter": "python",
   "pygments_lexer": "ipython3",
   "version": "3.12.2"
  }
 },
 "nbformat": 4,
 "nbformat_minor": 5
}
