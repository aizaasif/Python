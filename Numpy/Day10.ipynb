{
 "cells": [
  {
   "cell_type": "markdown",
   "id": "921b9452",
   "metadata": {},
   "source": [
    "Array Iteration"
   ]
  },
  {
   "cell_type": "code",
   "execution_count": null,
   "id": "4faa1954",
   "metadata": {},
   "outputs": [
    {
     "name": "stdout",
     "output_type": "stream",
     "text": [
      "1\n",
      "2\n",
      "3\n",
      "4\n",
      "5\n"
     ]
    }
   ],
   "source": [
    "# Iterating 1D array\n",
    "import numpy as np\n",
    "a1=np.array([1,2,3,4,5])\n",
    "for a in a1:\n",
    "    print(a)"
   ]
  },
  {
   "cell_type": "code",
   "execution_count": null,
   "id": "6584ac0d",
   "metadata": {},
   "outputs": [
    {
     "name": "stdout",
     "output_type": "stream",
     "text": [
      "2\n",
      "[1 2 3]\n",
      "[4 5 6]\n"
     ]
    }
   ],
   "source": [
    "# iterating 2D array\n",
    "a2=np.array([[1,2,3],[4,5,6]])\n",
    "for b in a2:\n",
    "    print(b)\n"
   ]
  },
  {
   "cell_type": "code",
   "execution_count": 5,
   "id": "c56a5017",
   "metadata": {},
   "outputs": [
    {
     "name": "stdout",
     "output_type": "stream",
     "text": [
      "3\n",
      "[[1 2 3]\n",
      " [4 5 6]]\n"
     ]
    }
   ],
   "source": [
    "# iterating 3D array\n",
    "a3=np.array([[[1,2,3],[4,5,6]]])\n",
    "print(a3.ndim)\n",
    "for c in a3:\n",
    "    print(c)"
   ]
  },
  {
   "cell_type": "markdown",
   "id": "5926f548",
   "metadata": {},
   "source": [
    "Iteration through \"N\" dimensions"
   ]
  },
  {
   "cell_type": "code",
   "execution_count": 7,
   "id": "4e76878e",
   "metadata": {},
   "outputs": [
    {
     "name": "stdout",
     "output_type": "stream",
     "text": [
      "[[[[ 1  2  3  4  5]\n",
      "   [ 6  7  8  9 10]]]]\n"
     ]
    }
   ],
   "source": [
    "an=np.array([[1,2,3,4,5],[6,7,8,9,10]],ndmin=5)\n",
    "for d in an:\n",
    "    print(d)"
   ]
  },
  {
   "cell_type": "markdown",
   "id": "2427ad3d",
   "metadata": {},
   "source": [
    "To return the actual values, the scalars, we have to iterate the arrays in each dimension.\n",
    "Iterate on each scalar element of the 2-D array:"
   ]
  },
  {
   "cell_type": "code",
   "execution_count": 11,
   "id": "7d32cac6",
   "metadata": {},
   "outputs": [
    {
     "name": "stdout",
     "output_type": "stream",
     "text": [
      "1\n",
      "2\n",
      "3\n",
      "4\n",
      "5\n",
      "6\n"
     ]
    }
   ],
   "source": [
    "a=np.array([[[1,2,3],[4,5,6]]])\n",
    "# We don't need the rows we need actual elements such as 1 2 3 ...\n",
    "for x in a:\n",
    "    for y in x:\n",
    "        for z in y:\n",
    "            print(z)"
   ]
  },
  {
   "cell_type": "markdown",
   "id": "f6534364",
   "metadata": {},
   "source": [
    "4D array --> output--> Actual elements (scalars)"
   ]
  },
  {
   "cell_type": "code",
   "execution_count": 14,
   "id": "df198c34",
   "metadata": {},
   "outputs": [
    {
     "name": "stdout",
     "output_type": "stream",
     "text": [
      "1\n",
      "2\n",
      "3\n",
      "4\n",
      "5\n",
      "6\n",
      "7\n",
      "8\n",
      "9\n",
      "10\n"
     ]
    }
   ],
   "source": [
    "a4d=np.array([[1,2,3,4,5],[6,7,8,9,10]],ndmin=4)\n",
    "for a in a4d:\n",
    "    for b in a:\n",
    "        for c in b:\n",
    "            for d in c:\n",
    "                print(d)"
   ]
  },
  {
   "cell_type": "code",
   "execution_count": 15,
   "id": "3702f230",
   "metadata": {},
   "outputs": [
    {
     "name": "stdout",
     "output_type": "stream",
     "text": [
      "[[1 2 3]\n",
      " [4 5 6]]\n",
      "[[ 7  8  9]\n",
      " [10 11 12]]\n"
     ]
    }
   ],
   "source": [
    "arr = np.array([[[1, 2, 3], [4, 5, 6]], [[7, 8, 9], [10, 11, 12]]])\n",
    "\n",
    "for x in arr:\n",
    "  print(x)"
   ]
  },
  {
   "cell_type": "markdown",
   "id": "26c6513f",
   "metadata": {},
   "source": [
    "nditer function"
   ]
  },
  {
   "cell_type": "code",
   "execution_count": 16,
   "id": "86a6e81c",
   "metadata": {},
   "outputs": [
    {
     "name": "stdout",
     "output_type": "stream",
     "text": [
      "1\n",
      "2\n",
      "3\n",
      "4\n",
      "5\n",
      "6\n",
      "7\n",
      "8\n"
     ]
    }
   ],
   "source": [
    "arr = np.array([[[1, 2], [3, 4]], [[5, 6], [7, 8]]])\n",
    "\n",
    "for x in np.nditer(arr):\n",
    "  print(x)"
   ]
  }
 ],
 "metadata": {
  "kernelspec": {
   "display_name": "Python 3",
   "language": "python",
   "name": "python3"
  },
  "language_info": {
   "codemirror_mode": {
    "name": "ipython",
    "version": 3
   },
   "file_extension": ".py",
   "mimetype": "text/x-python",
   "name": "python",
   "nbconvert_exporter": "python",
   "pygments_lexer": "ipython3",
   "version": "3.12.2"
  }
 },
 "nbformat": 4,
 "nbformat_minor": 5
}
