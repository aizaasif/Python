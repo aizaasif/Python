{
 "cells": [
  {
   "cell_type": "markdown",
   "id": "52a642a9",
   "metadata": {},
   "source": [
    "Enumeration :\n",
    "It gives us address/index as well as elements of the array"
   ]
  },
  {
   "cell_type": "code",
   "execution_count": 4,
   "id": "27db425d",
   "metadata": {},
   "outputs": [
    {
     "name": "stdout",
     "output_type": "stream",
     "text": [
      "(0, 0, 0, 0) 1\n",
      "(0, 0, 0, 1) 2\n",
      "(0, 0, 1, 0) 3\n",
      "(0, 0, 1, 1) 4\n",
      "(0, 0, 2, 0) 5\n",
      "(0, 0, 2, 1) 6\n"
     ]
    }
   ],
   "source": [
    "import numpy as np\n",
    "a=np.array([[[[1,2],[3,4],[5,6]]]])\n",
    "for ind,val in np.ndenumerate(a):\n",
    "    print(ind,val)"
   ]
  }
 ],
 "metadata": {
  "kernelspec": {
   "display_name": "Python 3",
   "language": "python",
   "name": "python3"
  },
  "language_info": {
   "codemirror_mode": {
    "name": "ipython",
    "version": 3
   },
   "file_extension": ".py",
   "mimetype": "text/x-python",
   "name": "python",
   "nbconvert_exporter": "python",
   "pygments_lexer": "ipython3",
   "version": "3.12.2"
  }
 },
 "nbformat": 4,
 "nbformat_minor": 5
}
