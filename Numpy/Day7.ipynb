{
 "cells": [
  {
   "cell_type": "markdown",
   "id": "03c6435c",
   "metadata": {},
   "source": [
    "Making copies of the arrays to convert the datatypes"
   ]
  },
  {
   "cell_type": "code",
   "execution_count": 8,
   "id": "f424db3b",
   "metadata": {},
   "outputs": [
    {
     "name": "stdout",
     "output_type": "stream",
     "text": [
      "[9.9 1.  2. ]\n",
      "[9 1 2]\n",
      "float64\n",
      "int32\n"
     ]
    }
   ],
   "source": [
    "import numpy as np\n",
    "a=np.array([9.9,1,2])\n",
    "b=a.astype('i')\n",
    "print(a)\n",
    "print(b)\n",
    "print(a.dtype)\n",
    "print(b.dtype)\n"
   ]
  },
  {
   "cell_type": "code",
   "execution_count": null,
   "id": "34fb7497",
   "metadata": {},
   "outputs": [
    {
     "name": "stdout",
     "output_type": "stream",
     "text": [
      "int64\n"
     ]
    }
   ],
   "source": [
    "c=np.array([1.1,1.3],dtype=int)\n",
    "print(c.dtype)\n"
   ]
  },
  {
   "cell_type": "code",
   "execution_count": 11,
   "id": "a00c5700",
   "metadata": {},
   "outputs": [
    {
     "name": "stdout",
     "output_type": "stream",
     "text": [
      "[0 2 3 0 5]\n",
      "[False  True  True False  True]\n",
      "int64\n",
      "bool\n"
     ]
    }
   ],
   "source": [
    "import numpy as np\n",
    "a=np.array([0,2,3,0,5])\n",
    "b=a.astype(bool)\n",
    "print(a)\n",
    "print(b)\n",
    "print(a.dtype)\n",
    "print(b.dtype)"
   ]
  },
  {
   "cell_type": "markdown",
   "id": "a90a973a",
   "metadata": {},
   "source": [
    "View and copy of array"
   ]
  },
  {
   "cell_type": "code",
   "execution_count": 24,
   "id": "515e1799",
   "metadata": {},
   "outputs": [
    {
     "name": "stdout",
     "output_type": "stream",
     "text": [
      "[1 2 3 4 5]\n",
      "[1 9 3 4 5]\n",
      "[1 2 3 4 5]\n"
     ]
    }
   ],
   "source": [
    "# Orignal array (View)\n",
    "arr = np.array([1, 2, 3, 4, 5])\n",
    "# Copy\n",
    "x = arr.copy()\n",
    "# change in view\n",
    "# arr[0] = 42\n",
    "\n",
    "# print(arr)\n",
    "print(x)\n",
    "\n",
    "# change in copy\n",
    "x[1]=9\n",
    "print(x)\n",
    "print(arr)\n",
    "\n"
   ]
  },
  {
   "cell_type": "code",
   "execution_count": 25,
   "id": "5e7ad174",
   "metadata": {},
   "outputs": [
    {
     "name": "stdout",
     "output_type": "stream",
     "text": [
      "None\n",
      "[1 2 3 4 5]\n"
     ]
    }
   ],
   "source": [
    "# base keyword\n",
    "a1=np.array([1,2,3,4,5])\n",
    "x=a1.copy()\n",
    "y=a1.view()\n",
    "print(x.base)\n",
    "print(y.base)"
   ]
  }
 ],
 "metadata": {
  "kernelspec": {
   "display_name": "Python 3",
   "language": "python",
   "name": "python3"
  },
  "language_info": {
   "codemirror_mode": {
    "name": "ipython",
    "version": 3
   },
   "file_extension": ".py",
   "mimetype": "text/x-python",
   "name": "python",
   "nbconvert_exporter": "python",
   "pygments_lexer": "ipython3",
   "version": "3.12.2"
  }
 },
 "nbformat": 4,
 "nbformat_minor": 5
}
