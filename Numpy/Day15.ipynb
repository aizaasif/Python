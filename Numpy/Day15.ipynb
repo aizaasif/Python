{
 "cells": [
  {
   "cell_type": "markdown",
   "id": "30071018",
   "metadata": {},
   "source": [
    "Joining of arrays"
   ]
  },
  {
   "cell_type": "code",
   "execution_count": 12,
   "id": "e5b16867",
   "metadata": {},
   "outputs": [
    {
     "name": "stdout",
     "output_type": "stream",
     "text": [
      "[[[ 1  2  3]\n",
      "  [ 4  5  6]\n",
      "  [ 7  8  9]]\n",
      "\n",
      " [[10 11 12]\n",
      "  [13 14 15]\n",
      "  [16 17 18]]]\n"
     ]
    }
   ],
   "source": [
    "import numpy as np\n",
    "a1=np.array([[[1,2,3],[4,5,6],[7,8,9]]])\n",
    "a2=np.array([[[10,11,12],[13,14,15],[16,17,18]]])\n",
    "a3=np.concatenate((a1, a2), axis=0)\n",
    "print(a3)"
   ]
  },
  {
   "cell_type": "code",
   "execution_count": 13,
   "id": "21e4774d",
   "metadata": {},
   "outputs": [
    {
     "name": "stdout",
     "output_type": "stream",
     "text": [
      "[[[ 1  2  3]\n",
      "  [ 4  5  6]\n",
      "  [ 7  8  9]\n",
      "  [10 11 12]\n",
      "  [13 14 15]\n",
      "  [16 17 18]]]\n"
     ]
    }
   ],
   "source": [
    "import numpy as np\n",
    "a1=np.array([[[1,2,3],[4,5,6],[7,8,9]]])\n",
    "a2=np.array([[[10,11,12],[13,14,15],[16,17,18]]])\n",
    "a3=np.concatenate((a1, a2), axis=1)\n",
    "print(a3)"
   ]
  },
  {
   "cell_type": "code",
   "execution_count": 14,
   "id": "75d86ab2",
   "metadata": {},
   "outputs": [
    {
     "name": "stdout",
     "output_type": "stream",
     "text": [
      "[[[ 1  2  3 10 11 12]\n",
      "  [ 4  5  6 13 14 15]\n",
      "  [ 7  8  9 16 17 18]]]\n"
     ]
    }
   ],
   "source": [
    "import numpy as np\n",
    "a1=np.array([[[1,2,3],[4,5,6],[7,8,9]]])\n",
    "a2=np.array([[[10,11,12],[13,14,15],[16,17,18]]])\n",
    "a3=np.concatenate((a1, a2), axis=2)\n",
    "print(a3)"
   ]
  }
 ],
 "metadata": {
  "kernelspec": {
   "display_name": "Python 3",
   "language": "python",
   "name": "python3"
  },
  "language_info": {
   "codemirror_mode": {
    "name": "ipython",
    "version": 3
   },
   "file_extension": ".py",
   "mimetype": "text/x-python",
   "name": "python",
   "nbconvert_exporter": "python",
   "pygments_lexer": "ipython3",
   "version": "3.12.2"
  }
 },
 "nbformat": 4,
 "nbformat_minor": 5
}
