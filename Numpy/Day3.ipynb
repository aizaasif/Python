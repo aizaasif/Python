{
 "cells": [
  {
   "cell_type": "markdown",
   "id": "2f534081",
   "metadata": {},
   "source": [
    "Accessing a 1D Array"
   ]
  },
  {
   "cell_type": "code",
   "execution_count": 1,
   "id": "b7fa65ea",
   "metadata": {},
   "outputs": [
    {
     "name": "stdout",
     "output_type": "stream",
     "text": [
      "1st element o the array is :  1\n",
      "2nd element o the array is :  2\n",
      "3rd element o the array is :  3\n",
      "4th element o the array is :  4\n",
      "5th element o the array is :  5\n"
     ]
    }
   ],
   "source": [
    "import numpy as np\n",
    "arr_1D=np.array([1,2,3,4,5])\n",
    "print(\"1st element o the array is : \",arr_1D[0])\n",
    "print(\"2nd element o the array is : \",arr_1D[1])\n",
    "print(\"3rd element o the array is : \",arr_1D[2])\n",
    "print(\"4th element o the array is : \",arr_1D[3])\n",
    "print(\"5th element o the array is : \",arr_1D[4])"
   ]
  },
  {
   "cell_type": "markdown",
   "id": "dd5c426c",
   "metadata": {},
   "source": [
    "Accessing a 2D Array "
   ]
  },
  {
   "cell_type": "code",
   "execution_count": 16,
   "id": "15bacc64",
   "metadata": {},
   "outputs": [
    {
     "name": "stdout",
     "output_type": "stream",
     "text": [
      "[[1 2 3]\n",
      " [4 5 6]]\n",
      "2\n",
      "5\n",
      "1\n",
      "3\n",
      "4\n"
     ]
    }
   ],
   "source": [
    "arr_2D=np.array([[1,2,3],[4,5,6]])\n",
    "print(arr_2D)\n",
    "print(arr_2D.ndim)\n",
    "print(arr_2D[1,1])\n",
    "print(arr_2D[0,0])\n",
    "print(arr_2D[0,2])\n",
    "print(arr_2D[1,0])"
   ]
  }
 ],
 "metadata": {
  "kernelspec": {
   "display_name": "Python 3",
   "language": "python",
   "name": "python3"
  },
  "language_info": {
   "codemirror_mode": {
    "name": "ipython",
    "version": 3
   },
   "file_extension": ".py",
   "mimetype": "text/x-python",
   "name": "python",
   "nbconvert_exporter": "python",
   "pygments_lexer": "ipython3",
   "version": "3.12.2"
  }
 },
 "nbformat": 4,
 "nbformat_minor": 5
}
