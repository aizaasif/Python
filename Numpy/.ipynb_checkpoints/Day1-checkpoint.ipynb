{
 "cells": [
  {
   "cell_type": "code",
   "execution_count": 1,
   "id": "d44bfd93-e360-43b0-be4b-a75306cd72fa",
   "metadata": {},
   "outputs": [
    {
     "name": "stdout",
     "output_type": "stream",
     "text": [
      "Hello I am Aiza Asif\n"
     ]
    }
   ],
   "source": [
    "print(\"Hello I am Aiza Asif\")"
   ]
  },
  {
   "cell_type": "code",
   "execution_count": null,
   "id": "c5d3c9bf-882c-4763-b39e-ea6a75b50175",
   "metadata": {},
   "outputs": [],
   "source": []
  }
 ],
 "metadata": {
  "kernelspec": {
   "display_name": "Python 3 (ipykernel)",
   "language": "python",
   "name": "python3"
  },
  "language_info": {
   "codemirror_mode": {
    "name": "ipython",
    "version": 3
   },
   "file_extension": ".py",
   "mimetype": "text/x-python",
   "name": "python",
   "nbconvert_exporter": "python",
   "pygments_lexer": "ipython3",
   "version": "3.12.2"
  }
 },
 "nbformat": 4,
 "nbformat_minor": 5
}
