{
 "cells": [
  {
   "cell_type": "code",
   "execution_count": 3,
   "id": "e912a326",
   "metadata": {},
   "outputs": [
    {
     "name": "stdout",
     "output_type": "stream",
     "text": [
      "[[ 1  2  3  4]\n",
      " [ 5  6  7  8]\n",
      " [ 9 10 11 12]\n",
      " [13 14 15 16]\n",
      " [17 18 19 20]]\n",
      "The desired element :  8\n",
      "The 3rd row is :  [ 9 10 11 12]\n",
      "The first two rows and first three columns [[1 2 3]\n",
      " [5 6 7]]\n",
      "Last coloumn:  [17 18 19 20]\n",
      "Even numbers :  [ 2  4  6  8 10 12 14 16 18 20]\n"
     ]
    }
   ],
   "source": [
    "import numpy as np\n",
    "# array 1-20\n",
    "a=np.array([1,2,3,4,5,6,7,8,9,10,11,12,13,14,15,16,17,18,19,20])\n",
    "# print(arr)\n",
    "# 5 by 4 matrix \n",
    "arr=np.array([[1,2,3,4],[5,6,7,8],[9,10,11,12],[13,14,15,16],[17,18,19,20]])\n",
    "print(arr)\n",
    "# Extract 8\n",
    "print(\"The desired element : \",arr[1,3])\n",
    "# The entire 3rd row.\n",
    "print(\"The 3rd row is : \",arr[2])\n",
    "# The first two rows and first three columns.\n",
    "print(\"The first two rows and first three columns\",arr[0:2, 0:3])\n",
    "# The last column of the matrix.\n",
    "print(\"Last coloumn: \",arr[-1])\n",
    "# All even numbers from the array.\n",
    "print(\"Even numbers : \",a[1:20:2])\n",
    "f=arr[0,0]\n",
    "\n",
    "\n"
   ]
  }
 ],
 "metadata": {
  "kernelspec": {
   "display_name": "Python 3",
   "language": "python",
   "name": "python3"
  },
  "language_info": {
   "codemirror_mode": {
    "name": "ipython",
    "version": 3
   },
   "file_extension": ".py",
   "mimetype": "text/x-python",
   "name": "python",
   "nbconvert_exporter": "python",
   "pygments_lexer": "ipython3",
   "version": "3.12.2"
  }
 },
 "nbformat": 4,
 "nbformat_minor": 5
}
